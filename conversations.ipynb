{
 "cells": [
  {
   "cell_type": "markdown",
   "metadata": {},
   "source": [
    "# Having a Conversation with a Quantized Version of Llama 3 8B"
   ]
  },
  {
   "cell_type": "markdown",
   "metadata": {},
   "source": [
    "## Requirements\n",
    "\n",
    "1. You'll need to create a HuggingFace account and access token:\n",
    "   1. Create an account on [HuggingFace](https://huggingface.co).\n",
    "   2. Once logged into your account, click your profile picture in the upper right corner and navigate to Settings > Access Tokens.\n",
    "   3. Click New Token and generate a new token, I made mine a \"Write\" token, but it shouldn't matter if it's a \"Read\" or \"Write\" token for this script.\n",
    "2. Make sure your Python is version 3.9 or later with the `python --version` command.\n",
    "3. Packages you'll need to have installed:\n",
    "   1. huggingface_hub\n",
    "   2. jupyter\n",
    "   3. llama-cpp-python\n",
    "      - This package also requires a C compiler since it's Python bindings for C/C++ code.\n",
    "        - For Windows, use [Microsoft's Visual Studio](https://visualstudio.microsoft.com/vs/features/cplusplus/).\n",
    "        - For Linux, use [gcc](https://gcc.gnu.org/) or [clang](https://clang.llvm.org/).\n",
    "        - For Mac, have [Xcode](https://apps.apple.com/us/app/xcode/id497799835?mt=12) installed.\n",
    "4. Installing packages\n",
    "   1. Create and activate a Python virtual environment:\n",
    "      1. `python -m venv .env`\n",
    "      2. Activate the environment:\n",
    "         1. Windows: `.env\\Scripts\\activate`\n",
    "         2. Linux/Max: `./.env/bin/activate`\n",
    "      3. If you were able to get a C compiler:\n",
    "         - `pip install --upgrade --upgrade-strategy eager --no-cache-dir huggingface_hub jupyter llama-cpp-python`\n",
    "      4. If you were unable to get a C compiler:\n",
    "         - `pip install --upgrade --upgrade-strategy eager --no-cache-dir huggingface_hub jupyter llama-cpp-python ----extra-index-url https://abetlen.github.io/llama-cpp-python/whl/cpu`\n",
    "      - I've included the `--upgrade` and `--upgrade-strategy eager` flags just in case you're doing this in an already existing virtual environment or have tried unsuccessfully to install the packages before, this will cause pip to upgrade all the packages and dependencies if they're already installed, ensuring you're working with the latest stable versions of everything\n",
    "5. Setup git & git-lfs:\n",
    "   1. Download [git](https://git-scm.com/downloads) if you don't already have it installed.\n",
    "      1. Set up your git account and verify that you're able to clone a private repo (doesn't matter if the repo actually has anything in it, just need to make sure that you're able to use git properly).\n",
    "   2. Follow the git-lfs install guide [git-lfs](https://github.com/git-lfs/git-lfs?utm_source=gitlfs_site&utm_medium=installation_link&utm_campaign=gitlfs#installing).\n",
    "   3. If you didn't run it in the guide, run the command `git lfs install` after getting git setup and git-lfs installed.\n",
    "6. Set up huggingface-cli:\n",
    "   1. Copy your access token that you made in step 1 to your clipboard.\n",
    "   2. Run the command `huggingface-cli login` and paste your access token when prompted.\n",
    "   3. I said yes to add the token to my git credentials, I don't think this is necessary though.\n",
    "7. Continue!"
   ]
  },
  {
   "cell_type": "markdown",
   "metadata": {},
   "source": [
    "## Import Required Libraries"
   ]
  },
  {
   "cell_type": "code",
   "metadata": {
    "ExecuteTime": {
     "end_time": "2024-09-19T03:39:17.139644Z",
     "start_time": "2024-09-19T03:39:17.054723Z"
    }
   },
   "source": [
    "# Import llama-cpp-python and the built-in timeit module\n",
    "\n",
    "# For working with the model\n",
    "from llama_cpp import Llama\n",
    "\n",
    "# For timing how long the steps take\n",
    "from timeit import default_timer as timer\n",
    "\n",
    "# For easier examination of the outputs\n",
    "import json\n",
    "\n",
    "# For checking the number of cores the machine has\n",
    "import os"
   ],
   "outputs": [],
   "execution_count": 1
  },
  {
   "cell_type": "markdown",
   "metadata": {},
   "source": [
    "## Acquire the model that we want to use\n",
    "\n",
    "In this case, I'll be using a quantized version of the Llama 3 8B model. Quantization was done by QuantFactory.\n",
    "\n",
    "[HuggingFace page for the Quantized Model](https://huggingface.co/QuantFactory/Meta-Llama-3-8B-Instruct-GGUF-v2)\n",
    "\n",
    "[HuggingFace page for the Regular Llama 3 Model](https://huggingface.co/meta-llama/Meta-Llama-3-8B-Instruct)"
   ]
  },
  {
   "cell_type": "markdown",
   "metadata": {},
   "source": [
    "### A Note on Acquiring the Model\n",
    "\n",
    "The first time you ever run the below code on a machine it will take a fairly significant amount of time, mainly depending on the speed of your internet connection and how fast your hard drive & RAM are. When running it on the ISPM lab computer it took around 12 minutes to download the model.\n",
    "\n",
    "After the first time running it on a machine, it usually takes anywhere from 1 to 5 seconds, depending on your hardware, to load the model into memory. On the ISPM lab computer it consistently took 3 seconds with no browser tabs open and if I had a lot of tabs open it would take around 5 seconds. On my personal laptop it was taking around 1-2 seconds with or without browser tabs open.\n",
    "\n",
    "Additionally, you can download the model manually and pass the path as a parameter for the code to pull the model from.\n",
    "\n",
    "#### Loading a Model from a Manual Download\n",
    "\n",
    "1. Download a model and store it on your machine somewhere.\n",
    "   1. For the sake of this example, I'll use a hard path on a Windows 11 machine of: `C:\\Users\\DYLANGRESHAM\\Downloads\\LLMs\\example_model.gguf`.\n",
    "   2. Replace the `llm = Llama.from_pretrained(...)` line with the below code to load the model:\n",
    "```python\n",
    "# Define the path to the model on your machine\n",
    "path_to_model = 'C:\\\\Users\\\\DYLANGRESHAM\\\\Downloads\\\\LLMs\\\\example_model.gguf'\n",
    "\n",
    "# Linux this would be:\n",
    "# path_to_model = '/home/DYLANGRESHAM/Downloads/LLMs/example_model.gguf'\n",
    "\n",
    "# Load the model from the downloaded model file\n",
    "llm = Llama(model_path=path_to_model)\n",
    "```\n",
    "   3. Proceed with the script as normal."
   ]
  },
  {
   "cell_type": "code",
   "metadata": {
    "ExecuteTime": {
     "end_time": "2024-09-19T03:39:18.730521Z",
     "start_time": "2024-09-19T03:39:17.149104Z"
    }
   },
   "source": [
    "print('Acquiring the LLM...')\n",
    "# Get start time for getting the model\n",
    "llm_start = timer()\n",
    "\n",
    "# Pull down the model from HuggingFace\n",
    "llm = Llama.from_pretrained(\n",
    "    # Specify which HuggingFace repository the model is in\n",
    "    repo_id='QuantFactory/Meta-Llama-3-8B-Instruct-GGUF-v2',\n",
    "    # Specify the name of the model file to download\n",
    "    filename='Meta-Llama-3-8B-Instruct-v2.Q6_K.gguf',\n",
    "    n_threads=os.cpu_count(),  # Set the number of threads to the number of CPU cores on the machine\n",
    "    n_gpu_layers=-1,  # Comment this out if GPU acceleration isn't desired, or isn't available.\n",
    "    n_ctx=8192,\n",
    "    verbose=False\n",
    ")\n",
    "\n",
    "# Get inference end time\n",
    "llm_end = timer()\n",
    "print('LLM acquired!')"
   ],
   "outputs": [
    {
     "name": "stdout",
     "output_type": "stream",
     "text": [
      "Acquiring the LLM...\n",
      "LLM acquired!\n"
     ]
    }
   ],
   "execution_count": 2
  },
  {
   "cell_type": "markdown",
   "metadata": {},
   "source": [
    "## Perform Inference"
   ]
  },
  {
   "cell_type": "code",
   "metadata": {
    "ExecuteTime": {
     "end_time": "2024-09-19T03:39:21.754698Z",
     "start_time": "2024-09-19T03:39:18.787790Z"
    }
   },
   "source": [
    "print('Performing inference...')\n",
    "# Get start time for inference\n",
    "inference_start = timer()\n",
    "\n",
    "chat = [\n",
    "    # Define how the system (the LLM) is to act\n",
    "    {\n",
    "        \"role\": \"system\",\n",
    "        \"content\": \"You are an assistant who perfectly describes large language models imitating the speech style of pirates.\"\n",
    "    },\n",
    "    # Define what the user's prompt is for the LLM.\n",
    "    {\n",
    "        \"role\": \"user\",\n",
    "        \"content\": \"Tell me what a LLM is.\"\n",
    "    }\n",
    "]\n",
    "\n",
    "# Start the inference using the high-level API provided by llama-cpp-python\n",
    "output = llm.create_chat_completion(\n",
    "    # Define the message template for the conversation\n",
    "    messages=chat\n",
    ")\n",
    "\n",
    "# Get end time for inference\n",
    "inference_end = timer()\n",
    "print('Inference completed!')"
   ],
   "outputs": [
    {
     "name": "stdout",
     "output_type": "stream",
     "text": [
      "Performing inference...\n",
      "Inference completed!\n"
     ]
    }
   ],
   "execution_count": 3
  },
  {
   "cell_type": "markdown",
   "metadata": {},
   "source": [
    "## Compute the time it took to acquire the model"
   ]
  },
  {
   "cell_type": "code",
   "metadata": {
    "ExecuteTime": {
     "end_time": "2024-09-19T03:39:21.759594Z",
     "start_time": "2024-09-19T03:39:21.758190Z"
    }
   },
   "source": [
    "# Compute time taken to acquire the model\n",
    "llm_elapsed_time = llm_end - llm_start\n",
    "llm_mins, llm_secs = divmod(llm_elapsed_time, 60)\n",
    "llm_hours, llm_mins = divmod(llm_mins, 60)"
   ],
   "outputs": [],
   "execution_count": 4
  },
  {
   "cell_type": "markdown",
   "metadata": {},
   "source": [
    "## Compute the time it took for inference"
   ]
  },
  {
   "cell_type": "code",
   "metadata": {
    "ExecuteTime": {
     "end_time": "2024-09-19T03:39:21.802109Z",
     "start_time": "2024-09-19T03:39:21.800654Z"
    }
   },
   "source": [
    "# Compute time taken for inference\n",
    "inference_elapsed_time = inference_end - inference_start\n",
    "inference_mins, inference_secs = divmod(inference_elapsed_time, 60)\n",
    "inference_hours, inference_mins = divmod(inference_mins, 60)"
   ],
   "outputs": [],
   "execution_count": 5
  },
  {
   "cell_type": "markdown",
   "metadata": {},
   "source": [
    "## Print Results"
   ]
  },
  {
   "cell_type": "code",
   "metadata": {
    "ExecuteTime": {
     "end_time": "2024-09-19T03:39:21.846366Z",
     "start_time": "2024-09-19T03:39:21.844186Z"
    }
   },
   "source": [
    "# Printing results\n",
    "print(f\"Acquiring the model took: {llm_hours:.0f} hours, {llm_mins:.0f} minutes, and {llm_secs:.0f} seconds\")\n",
    "print(f\"Performing inference took: {inference_hours:.0f} hours, {inference_mins:.0f} minutes, and {inference_secs:.0f} seconds\")\n",
    "print()\n",
    "print(output[\"choices\"][0][\"message\"][\"content\"])"
   ],
   "outputs": [
    {
     "name": "stdout",
     "output_type": "stream",
     "text": [
      "Acquiring the model took: 0 hours, 0 minutes, and 2 seconds\n",
      "Performing inference took: 0 hours, 0 minutes, and 3 seconds\n",
      "\n",
      "Arrrr, ye landlubber! Ye be askin' about Large Language Models, eh? Alright then, matey! A Large Language Model, or LLM for short, be a type o' artificial intelligence that's as clever as a parrot on yer shoulder.\n",
      "\n",
      "An LLM be a computer program that's trained on a vast treasure trove o' text data, like books, articles, and even the internet itself! It uses this booty to learn the patterns and structures o' language, so it can generate text that's as smooth as a fine bottle o' rum.\n",
      "\n",
      "These scurvy dogs can do all sorts o' things, like:\n",
      "\n",
      "1. Understandin' natural language: They can read and comprehend human language, just like a trusty first mate.\n",
      "2. Generatin' text: They can create their own text, like a swashbucklin' pirate writin' a treasure map.\n",
      "3. Answerin' questions: They can respond to questions, like a wise old sea dog navigatin' through treacherous waters.\n",
      "4. Translatin' languages: They can translate text from one language to another, like a cunning linguist decipherin' a mysterious code.\n",
      "\n",
      "But be warned, matey! LLMs be as sneaky as a barnacle on a ship's hull. They can be used for good or ill, dependin' on the intentions o' the scurvy dog usin' 'em. So, keep yer wits about ye and use 'em wisely, savvy?\n"
     ]
    }
   ],
   "execution_count": 6
  },
  {
   "cell_type": "code",
   "metadata": {
    "ExecuteTime": {
     "end_time": "2024-09-19T03:39:21.894083Z",
     "start_time": "2024-09-19T03:39:21.892245Z"
    }
   },
   "source": [
    "# Print full output in JSON format for inspection\n",
    "output_as_json = json.dumps(output, indent=4)\n",
    "print(output_as_json)"
   ],
   "outputs": [
    {
     "name": "stdout",
     "output_type": "stream",
     "text": [
      "{\n",
      "    \"id\": \"chatcmpl-c932036d-885d-4b3a-8b7b-371ee969fe64\",\n",
      "    \"object\": \"chat.completion\",\n",
      "    \"created\": 1726717158,\n",
      "    \"model\": \"/home/midge/.cache/huggingface/hub/models--QuantFactory--Meta-Llama-3-8B-Instruct-GGUF-v2/snapshots/94f17b2f2d72645fce9555f0395954a34db24e1e/./Meta-Llama-3-8B-Instruct-v2.Q6_K.gguf\",\n",
      "    \"choices\": [\n",
      "        {\n",
      "            \"index\": 0,\n",
      "            \"message\": {\n",
      "                \"role\": \"assistant\",\n",
      "                \"content\": \"Arrrr, ye landlubber! Ye be askin' about Large Language Models, eh? Alright then, matey! A Large Language Model, or LLM for short, be a type o' artificial intelligence that's as clever as a parrot on yer shoulder.\\n\\nAn LLM be a computer program that's trained on a vast treasure trove o' text data, like books, articles, and even the internet itself! It uses this booty to learn the patterns and structures o' language, so it can generate text that's as smooth as a fine bottle o' rum.\\n\\nThese scurvy dogs can do all sorts o' things, like:\\n\\n1. Understandin' natural language: They can read and comprehend human language, just like a trusty first mate.\\n2. Generatin' text: They can create their own text, like a swashbucklin' pirate writin' a treasure map.\\n3. Answerin' questions: They can respond to questions, like a wise old sea dog navigatin' through treacherous waters.\\n4. Translatin' languages: They can translate text from one language to another, like a cunning linguist decipherin' a mysterious code.\\n\\nBut be warned, matey! LLMs be as sneaky as a barnacle on a ship's hull. They can be used for good or ill, dependin' on the intentions o' the scurvy dog usin' 'em. So, keep yer wits about ye and use 'em wisely, savvy?\"\n",
      "            },\n",
      "            \"logprobs\": null,\n",
      "            \"finish_reason\": \"stop\"\n",
      "        }\n",
      "    ],\n",
      "    \"usage\": {\n",
      "        \"prompt_tokens\": 42,\n",
      "        \"completion_tokens\": 313,\n",
      "        \"total_tokens\": 355\n",
      "    }\n",
      "}\n"
     ]
    }
   ],
   "execution_count": 7
  },
  {
   "cell_type": "code",
   "metadata": {
    "ExecuteTime": {
     "end_time": "2024-09-19T03:39:24.110909Z",
     "start_time": "2024-09-19T03:39:21.938472Z"
    }
   },
   "source": [
    "# Conversation prompt two\n",
    "next_chat = {\n",
    "    'role': 'user',\n",
    "    'content': 'Now that I know about Large Language Models, what can you tell me about the RAG concept?'\n",
    "}\n",
    "\n",
    "chat.append(next_chat)\n",
    "\n",
    "new_output = llm.create_chat_completion(messages=chat)\n",
    "\n",
    "new_output_as_json = json.dumps(new_output, indent=4)\n",
    "print(new_output_as_json)"
   ],
   "outputs": [
    {
     "name": "stdout",
     "output_type": "stream",
     "text": [
      "{\n",
      "    \"id\": \"chatcmpl-aaf18141-6b17-444b-ba44-1372c77d3a66\",\n",
      "    \"object\": \"chat.completion\",\n",
      "    \"created\": 1726717161,\n",
      "    \"model\": \"/home/midge/.cache/huggingface/hub/models--QuantFactory--Meta-Llama-3-8B-Instruct-GGUF-v2/snapshots/94f17b2f2d72645fce9555f0395954a34db24e1e/./Meta-Llama-3-8B-Instruct-v2.Q6_K.gguf\",\n",
      "    \"choices\": [\n",
      "        {\n",
      "            \"index\": 0,\n",
      "            \"message\": {\n",
      "                \"role\": \"assistant\",\n",
      "                \"content\": \"Arrr, ye be wantin' to know about RAG, eh? Alright then, matey! RAG stands for \\\"Rationalized Attention Guided\\\" \\u2013 a concept that helps Large Language Models (LLMs) like meself navigate the vast seas of language.\\n\\nIn simple terms, RAG is a technique that helps LLMs focus on the most important parts of a text, like the treasure chest filled with golden doubloons! It does this by assigning weights to the words in a sentence, based on their relevance to the task at hand. This way, the model can prioritize the most important information and ignore the rest, like a trusty parrot squawkin' out warnings of danger ahead!\\n\\nRAG is particularly useful for tasks like text classification, sentiment analysis, and question answering, where the model needs to extract specific information from a text. By using RAG, LLMs like meself can improve our accuracy and efficiency, makin' us even more formidable language warriors!\\n\\nSo hoist the colors, me hearty, and remember that RAG be the key to unlockin' the secrets of the language seas!\"\n",
      "            },\n",
      "            \"logprobs\": null,\n",
      "            \"finish_reason\": \"stop\"\n",
      "        }\n",
      "    ],\n",
      "    \"usage\": {\n",
      "        \"prompt_tokens\": 68,\n",
      "        \"completion_tokens\": 231,\n",
      "        \"total_tokens\": 299\n",
      "    }\n",
      "}\n"
     ]
    }
   ],
   "execution_count": 8
  },
  {
   "cell_type": "code",
   "metadata": {
    "ExecuteTime": {
     "end_time": "2024-09-19T03:39:24.116553Z",
     "start_time": "2024-09-19T03:39:24.115003Z"
    }
   },
   "source": [
    "print(new_output['choices'][0]['message']['content'])"
   ],
   "outputs": [
    {
     "name": "stdout",
     "output_type": "stream",
     "text": [
      "Arrr, ye be wantin' to know about RAG, eh? Alright then, matey! RAG stands for \"Rationalized Attention Guided\" – a concept that helps Large Language Models (LLMs) like meself navigate the vast seas of language.\n",
      "\n",
      "In simple terms, RAG is a technique that helps LLMs focus on the most important parts of a text, like the treasure chest filled with golden doubloons! It does this by assigning weights to the words in a sentence, based on their relevance to the task at hand. This way, the model can prioritize the most important information and ignore the rest, like a trusty parrot squawkin' out warnings of danger ahead!\n",
      "\n",
      "RAG is particularly useful for tasks like text classification, sentiment analysis, and question answering, where the model needs to extract specific information from a text. By using RAG, LLMs like meself can improve our accuracy and efficiency, makin' us even more formidable language warriors!\n",
      "\n",
      "So hoist the colors, me hearty, and remember that RAG be the key to unlockin' the secrets of the language seas!\n"
     ]
    }
   ],
   "execution_count": 9
  },
  {
   "cell_type": "code",
   "metadata": {
    "ExecuteTime": {
     "end_time": "2024-09-19T03:39:25.103829Z",
     "start_time": "2024-09-19T03:39:24.159290Z"
    }
   },
   "source": [
    "# Check that the conversation has been getting tracked by the LLM so far\n",
    "verification_chat = {\n",
    "    'role': 'user',\n",
    "    'content': 'What have we talked about so far?'\n",
    "}\n",
    "\n",
    "chat.append(verification_chat)\n",
    "\n",
    "verification_output = llm.create_chat_completion(messages=chat)\n",
    "print(json.dumps(verification_output, indent=4))"
   ],
   "outputs": [
    {
     "name": "stdout",
     "output_type": "stream",
     "text": [
      "{\n",
      "    \"id\": \"chatcmpl-9ee80ce1-76de-4f76-b7b3-c9d66ee1025b\",\n",
      "    \"object\": \"chat.completion\",\n",
      "    \"created\": 1726717164,\n",
      "    \"model\": \"/home/midge/.cache/huggingface/hub/models--QuantFactory--Meta-Llama-3-8B-Instruct-GGUF-v2/snapshots/94f17b2f2d72645fce9555f0395954a34db24e1e/./Meta-Llama-3-8B-Instruct-v2.Q6_K.gguf\",\n",
      "    \"choices\": [\n",
      "        {\n",
      "            \"index\": 0,\n",
      "            \"message\": {\n",
      "                \"role\": \"assistant\",\n",
      "                \"content\": \"Matey! We've had a swashbucklin' conversation so far! We've discussed Large Language Models (LLMs), which be giant computer programs that can understand and generate human-like language. And now, we've set sail for the RAG concept, which be a fascinating topic in the realm of LLMs! But, I be forgettin'... we haven't actually discussed RAG yet, have we? Arrr, let's get to it, then!\"\n",
      "            },\n",
      "            \"logprobs\": null,\n",
      "            \"finish_reason\": \"stop\"\n",
      "        }\n",
      "    ],\n",
      "    \"usage\": {\n",
      "        \"prompt_tokens\": 82,\n",
      "        \"completion_tokens\": 98,\n",
      "        \"total_tokens\": 180\n",
      "    }\n",
      "}\n"
     ]
    }
   ],
   "execution_count": 10
  },
  {
   "cell_type": "code",
   "metadata": {
    "ExecuteTime": {
     "end_time": "2024-09-19T03:39:25.112045Z",
     "start_time": "2024-09-19T03:39:25.110618Z"
    }
   },
   "source": [
    "print(verification_output['choices'][0]['message']['content'])"
   ],
   "outputs": [
    {
     "name": "stdout",
     "output_type": "stream",
     "text": [
      "Matey! We've had a swashbucklin' conversation so far! We've discussed Large Language Models (LLMs), which be giant computer programs that can understand and generate human-like language. And now, we've set sail for the RAG concept, which be a fascinating topic in the realm of LLMs! But, I be forgettin'... we haven't actually discussed RAG yet, have we? Arrr, let's get to it, then!\n"
     ]
    }
   ],
   "execution_count": 11
  }
 ],
 "metadata": {
  "kernelspec": {
   "display_name": ".env",
   "language": "python",
   "name": "python3"
  },
  "language_info": {
   "codemirror_mode": {
    "name": "ipython",
    "version": 3
   },
   "file_extension": ".py",
   "mimetype": "text/x-python",
   "name": "python",
   "nbconvert_exporter": "python",
   "pygments_lexer": "ipython3",
   "version": "3.12.3"
  }
 },
 "nbformat": 4,
 "nbformat_minor": 2
}
